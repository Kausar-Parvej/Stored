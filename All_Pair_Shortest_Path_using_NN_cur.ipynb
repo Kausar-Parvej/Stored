{
  "nbformat": 4,
  "nbformat_minor": 0,
  "metadata": {
    "colab": {
      "provenance": [],
      "machine_shape": "hm",
      "gpuType": "T4",
      "include_colab_link": true
    },
    "kernelspec": {
      "name": "python3",
      "display_name": "Python 3"
    },
    "language_info": {
      "name": "python"
    },
    "accelerator": "GPU"
  },
  "cells": [
    {
      "cell_type": "markdown",
      "metadata": {
        "id": "view-in-github",
        "colab_type": "text"
      },
      "source": [
        "<a href=\"https://colab.research.google.com/github/Kausar-Parvej/Stored/blob/main/All_Pair_Shortest_Path_using_NN_cur.ipynb\" target=\"_parent\"><img src=\"https://colab.research.google.com/assets/colab-badge.svg\" alt=\"Open In Colab\"/></a>"
      ]
    },
    {
      "cell_type": "markdown",
      "source": [
        "##🧩**1: Setup and Imports**\n",
        "\n",
        "This block handles all necessary imports and prepare device\n",
        "\n"
      ],
      "metadata": {
        "id": "KHFB7ekwrC4_"
      }
    },
    {
      "cell_type": "code",
      "execution_count": null,
      "metadata": {
        "id": "iJ1d1GjFi2_T",
        "colab": {
          "base_uri": "https://localhost:8080/"
        },
        "outputId": "b7d309a1-5ca2-4659-b171-4818833a95a6"
      },
      "outputs": [
        {
          "output_type": "stream",
          "name": "stdout",
          "text": [
            "Using device: cuda\n",
            "Tesla T4\n"
          ]
        }
      ],
      "source": [
        "import os\n",
        "import torch\n",
        "import torch.nn as nn\n",
        "import torch.nn.functional as F\n",
        "import numpy as np\n",
        "from tqdm import tqdm\n",
        "from sklearn.model_selection import train_test_split\n",
        "import random\n",
        "import heapq\n",
        "from pathlib import Path\n",
        "import matplotlib.pyplot as plt\n",
        "\n",
        "# Check if GPU is available, otherwise use CPU\n",
        "device = torch.device('cuda' if torch.cuda.is_available() else 'cpu')\n",
        "\n",
        "# Print device information\n",
        "print(f'Using device: {device}')\n",
        "if device.type == 'cuda':\n",
        "    print(torch.cuda.get_device_name(0))"
      ]
    },
    {
      "cell_type": "markdown",
      "source": [
        "## 🔧 Graph Generator Overview\n",
        "\n",
        "This utility function `generate_graphs(...)` allows you to generate multiple random undirected graphs and save:\n",
        "\n",
        "- `edge.txt` – Edge weight matrix (n x n), with 0s for no edges.\n",
        "- `edge_mask.txt` – Binary adjacency matrix (n x n), 1 for edges, 0 otherwise.\n",
        "- `distance.txt` – All-pairs shortest path distances (n x n), computed using Dijkstra's algorithm. Unreachable nodes are marked with -1.\n",
        "\n",
        "### ✅ Features\n",
        "- Ensures graph connectivity via a randomized spanning tree.\n",
        "- Adds extra edges randomly based on probability `p`.\n",
        "- Efficient Dijkstra-based shortest path computation for all node pairs.\n",
        "- Each graph gets its own set of 3 files: `graph1_edge.txt`, `graph1_edge_mask.txt`, `graph1_distance.txt`, etc.\n",
        "\n",
        "### 🔧 Parameters\n",
        "- **`n`**: Number of nodes per graph.\n",
        "- **`num_graphs`**: Number of graphs to generate.\n",
        "- **`output_path`**: Folder path to store the files.\n",
        "- **`p`**: Probability of adding each extra edge (e.g., 0.3).\n",
        "- **`weight_range`**: Tuple indicating edge weight bounds, e.g., (1, 10)."
      ],
      "metadata": {
        "id": "q4nb-_esK1yO"
      }
    },
    {
      "cell_type": "code",
      "source": [
        "def generate_graphs(n, num_graphs, output_path, p=0.7, weight_range=(1, 20)):\n",
        "    os.makedirs(output_path, exist_ok=True)\n",
        "\n",
        "    for g in range(1, num_graphs + 1):\n",
        "        # Initialize matrices\n",
        "        edge = [[0]*n for _ in range(n)]\n",
        "        mask = [[0]*n for _ in range(n)]\n",
        "\n",
        "        # 1) Build a spanning tree to ensure connectivity\n",
        "        nodes = list(range(n))\n",
        "        random.shuffle(nodes)\n",
        "        for i in range(n-1):\n",
        "            u, v = nodes[i], nodes[i+1]\n",
        "            w = random.randint(*weight_range)\n",
        "            edge[u][v] = edge[v][u] = w\n",
        "            mask[u][v] = mask[v][u] = 1\n",
        "\n",
        "        # 2) Add extra random edges with probability p\n",
        "        for u in range(n):\n",
        "            for v in range(u+1, n):\n",
        "                if mask[u][v] == 0 and random.random() < p:\n",
        "                    w = random.randint(*weight_range)\n",
        "                    edge[u][v] = edge[v][u] = w\n",
        "                    mask[u][v] = mask[v][u] = 1\n",
        "\n",
        "        # 3) Compute all-pairs shortest paths via Dijkstra\n",
        "        dist = [[float('inf')]*n for _ in range(n)]\n",
        "        for src in range(n):\n",
        "            d = [float('inf')]*n\n",
        "            d[src] = 0\n",
        "            visited = [False]*n\n",
        "            heap = [(0, src)]\n",
        "            while heap:\n",
        "                du, u = heapq.heappop(heap)\n",
        "                if visited[u]:\n",
        "                    continue\n",
        "                visited[u] = True\n",
        "                for v in range(n):\n",
        "                    if mask[u][v]:\n",
        "                        alt = du + edge[u][v]\n",
        "                        if alt < d[v]:\n",
        "                            d[v] = alt\n",
        "                            heapq.heappush(heap, (alt, v))\n",
        "            dist[src] = d\n",
        "\n",
        "        # 4) Create graph subfolder and write files\n",
        "        graph_folder = os.path.join(output_path, f\"graph{g}\")\n",
        "        os.makedirs(graph_folder, exist_ok=True)\n",
        "\n",
        "        with open(os.path.join(graph_folder, \"edge.txt\"), 'w') as fe, \\\n",
        "             open(os.path.join(graph_folder, \"edge_mask.txt\"), 'w') as fm, \\\n",
        "             open(os.path.join(graph_folder, \"distance.txt\"), 'w') as fd:\n",
        "\n",
        "            for i in range(n):\n",
        "                fe.write(\" \".join(map(str, edge[i])) + \"\\n\")\n",
        "                fm.write(\" \".join(map(str, mask[i])) + \"\\n\")\n",
        "                row = [str(int(d)) if d < float('inf') else \"-1\" for d in dist[i]]\n",
        "                fd.write(\" \".join(row) + \"\\n\")\n",
        "\n",
        "# Example usage:\n",
        "generate_graphs(n=20, num_graphs=100, output_path=\"./graphs\", p=0.6, weight_range=(1, 100))\n"
      ],
      "metadata": {
        "id": "k5VAp9j-Laml"
      },
      "execution_count": null,
      "outputs": []
    },
    {
      "cell_type": "markdown",
      "source": [
        "<font color='red'>**Warning!**</font> This cell is just a utility, not part of the original code. This will delete the dataset folder."
      ],
      "metadata": {
        "id": "sHU4Ze3jOVol"
      }
    },
    {
      "cell_type": "code",
      "source": [
        "import shutil\n",
        "\n",
        "# Replace with your folder path\n",
        "folder_path = \"./graphs\"\n",
        "\n",
        "# Delete the folder and all its contents\n",
        "shutil.rmtree(folder_path)\n",
        "\n",
        "print(f\"Deleted folder: {folder_path}\")\n"
      ],
      "metadata": {
        "colab": {
          "base_uri": "https://localhost:8080/"
        },
        "id": "wejJcw9UNr4F",
        "outputId": "8a9893e3-0d0d-4d19-c230-e332fcdd6648"
      },
      "execution_count": null,
      "outputs": [
        {
          "output_type": "stream",
          "name": "stdout",
          "text": [
            "Deleted folder: ./graphs\n"
          ]
        }
      ]
    },
    {
      "cell_type": "markdown",
      "source": [
        "##🧩2: File Discovery\n",
        "\n",
        "Now that each graph lives in its own subfolder (graph1, graph2, …) under output_path, we need to:\n",
        "\n",
        "- List all subdirectories of `INPUT_DIR` whose names start with “graph”.\n",
        "- In each subfolder, identify the three `.txt` files:\n",
        "    - `edge.txt` → raw adjacency-weight matrix\n",
        "    - `edge_mask.txt` → binary adjacency mask\n",
        "    - `distance.txt` → all-pairs shortest-path matrix"
      ],
      "metadata": {
        "id": "xsuvWaMNr1Ut"
      }
    },
    {
      "cell_type": "code",
      "source": [
        "INPUT_DIR = Path(\"graphs\")\n",
        "\n",
        "# Find all graph subfolders\n",
        "graph_dirs = sorted(\n",
        "    [d for d in INPUT_DIR.iterdir() if d.is_dir() and d.name.startswith(\"graph\")],\n",
        "    key=lambda d: int(d.name.replace(\"graph\", \"\"))\n",
        ")\n",
        "\n",
        "print(f\"✅ Found {len(graph_dirs)} graph folders: {[d.name for d in graph_dirs]}\")"
      ],
      "metadata": {
        "id": "_U5i8m6ir7u_",
        "colab": {
          "base_uri": "https://localhost:8080/"
        },
        "outputId": "a63c2f68-f68e-4847-bd28-9cdc85159dca"
      },
      "execution_count": null,
      "outputs": [
        {
          "output_type": "stream",
          "name": "stdout",
          "text": [
            "✅ Found 100 graph folders: ['graph1', 'graph2', 'graph3', 'graph4', 'graph5', 'graph6', 'graph7', 'graph8', 'graph9', 'graph10', 'graph11', 'graph12', 'graph13', 'graph14', 'graph15', 'graph16', 'graph17', 'graph18', 'graph19', 'graph20', 'graph21', 'graph22', 'graph23', 'graph24', 'graph25', 'graph26', 'graph27', 'graph28', 'graph29', 'graph30', 'graph31', 'graph32', 'graph33', 'graph34', 'graph35', 'graph36', 'graph37', 'graph38', 'graph39', 'graph40', 'graph41', 'graph42', 'graph43', 'graph44', 'graph45', 'graph46', 'graph47', 'graph48', 'graph49', 'graph50', 'graph51', 'graph52', 'graph53', 'graph54', 'graph55', 'graph56', 'graph57', 'graph58', 'graph59', 'graph60', 'graph61', 'graph62', 'graph63', 'graph64', 'graph65', 'graph66', 'graph67', 'graph68', 'graph69', 'graph70', 'graph71', 'graph72', 'graph73', 'graph74', 'graph75', 'graph76', 'graph77', 'graph78', 'graph79', 'graph80', 'graph81', 'graph82', 'graph83', 'graph84', 'graph85', 'graph86', 'graph87', 'graph88', 'graph89', 'graph90', 'graph91', 'graph92', 'graph93', 'graph94', 'graph95', 'graph96', 'graph97', 'graph98', 'graph99', 'graph100']\n"
          ]
        }
      ]
    },
    {
      "cell_type": "markdown",
      "source": [
        "##🧩3: Define Matrix Parsing Logic\n",
        "\n",
        "Each graph subfolder now has three files instead of two in one file. We’ll write:\n",
        "\n",
        "- `load_graph_inputs(folder)` → returns (weight_matrix, mask_matrix)\n",
        "- `load_graph_output(folder)` → returns distance_matrix"
      ],
      "metadata": {
        "id": "R0u8IMa0sZj-"
      }
    },
    {
      "cell_type": "code",
      "source": [
        "def load_graph_inputs(graph_folder: Path):\n",
        "    # read weight and mask\n",
        "    w = np.loadtxt(graph_folder / \"edge.txt\",      dtype=float)\n",
        "    m = np.loadtxt(graph_folder / \"edge_mask.txt\", dtype=int)\n",
        "    # mark absent edges with a large cost, keep zero diagonal\n",
        "    w[m == 0] = 1e9\n",
        "    np.fill_diagonal(w, 0.0)\n",
        "    #return w / 1e3  # optional scaling\n",
        "    return w\n",
        "\n",
        "def load_graph_output(graph_folder: Path):\n",
        "    d = np.loadtxt(graph_folder / \"distance.txt\", dtype=float)\n",
        "    #return d / 1e3  # same scaling\n",
        "    return d\n"
      ],
      "metadata": {
        "id": "dAanSHuXsnQn"
      },
      "execution_count": null,
      "outputs": []
    },
    {
      "cell_type": "markdown",
      "source": [
        "##🧩4: Load All Graphs into Memory\n",
        "\n",
        "Iterate over each `graphX` folder, parse inputs and outputs, and stack into tensors."
      ],
      "metadata": {
        "id": "5V-7bhJ8sp9G"
      }
    },
    {
      "cell_type": "code",
      "source": [
        "inputs, masks, targets = [], [], []\n",
        "\n",
        "for gdir in tqdm(graph_dirs, desc=\"Loading graphs\"):\n",
        "    W = load_graph_inputs(gdir)\n",
        "    D = load_graph_output(gdir)\n",
        "    inputs.append(torch.tensor(W, dtype=torch.float32))\n",
        "    targets.append(torch.tensor(D, dtype=torch.float32))\n",
        "\n",
        "inputs = torch.stack(inputs)   # shape: (num_graphs, n, n)\n",
        "targets = torch.stack(targets) # shape: (num_graphs, n, n)\n",
        "\n",
        "print(f\"✅ Loaded {inputs.shape[0]} graphs; each {inputs.shape[1]}×{inputs.shape[2]}\")\n"
      ],
      "metadata": {
        "id": "nTX-vp2gsu0e",
        "colab": {
          "base_uri": "https://localhost:8080/"
        },
        "outputId": "72a317db-cabe-40cb-ce4b-f195929e0561"
      },
      "execution_count": null,
      "outputs": [
        {
          "output_type": "stream",
          "name": "stderr",
          "text": [
            "Loading graphs: 100%|██████████| 100/100 [00:00<00:00, 1112.86it/s]"
          ]
        },
        {
          "output_type": "stream",
          "name": "stdout",
          "text": [
            "✅ Loaded 100 graphs; each 20×20\n"
          ]
        },
        {
          "output_type": "stream",
          "name": "stderr",
          "text": [
            "\n"
          ]
        }
      ]
    },
    {
      "cell_type": "markdown",
      "source": [
        "> **Note:** We dropped `mask` as a separate tensor here because it’s already absorbed into `W` (absent edges → huge cost). If you need the binary mask for your model, just append `torch.tensor((W > 0) & (W < 1e9))` alongside."
      ],
      "metadata": {
        "id": "LPbKOrwv0n1X"
      }
    },
    {
      "cell_type": "markdown",
      "source": [
        "##🧩5: Split into Training and Test Sets\n",
        "\n",
        "We randomly split the loaded data into training and test sets for model training and evaluation.\n"
      ],
      "metadata": {
        "id": "lOknmjbas0DV"
      }
    },
    {
      "cell_type": "code",
      "source": [
        "from sklearn.model_selection import train_test_split\n",
        "\n",
        "X_train, X_test, y_train, y_test = train_test_split(\n",
        "    inputs, targets, test_size=0.2, random_state=42\n",
        ")\n",
        "\n",
        "print(f\"🟢 Training: {X_train.shape[0]} samples\")\n",
        "print(f\"🧪   Testing: {X_test.shape[0]} samples\")\n"
      ],
      "metadata": {
        "id": "XuAXrFKSs3rN",
        "colab": {
          "base_uri": "https://localhost:8080/"
        },
        "outputId": "27c3463c-fabc-4401-c3ef-8691284966b6"
      },
      "execution_count": null,
      "outputs": [
        {
          "output_type": "stream",
          "name": "stdout",
          "text": [
            "🟢 Training: 80 samples\n",
            "🧪   Testing: 20 samples\n"
          ]
        }
      ]
    },
    {
      "cell_type": "markdown",
      "source": [
        "##🧩6: Model definition\n",
        "`def __init__(self, n: int, hidden: int = 256, n_blocks: int = 8):`\n",
        "\n",
        "- `n`: the number of nodes → so the input/output matrices are `n`×`n`\n",
        "- `hidden`: size of the internal layer in the MLP\n",
        "- `n_blocks`: how many times we will repeat the same update logic"
      ],
      "metadata": {
        "id": "QyFNN0FwXW7m"
      }
    },
    {
      "cell_type": "code",
      "source": [
        "class RepeatedBlockMLP(nn.Module):\n",
        "    def __init__(self, n: int, hidden: int = 256, n_blocks: int = 8, dropout: float = 0.1):\n",
        "        super().__init__()\n",
        "        self.n = n\n",
        "        self.n_blocks = n_blocks\n",
        "\n",
        "        # Initial projection\n",
        "        self.input_proj = nn.Linear(n * n, hidden)\n",
        "\n",
        "        # Repeated blocks with residual connections\n",
        "        self.blocks = nn.ModuleList([\n",
        "            nn.Sequential(\n",
        "                nn.Linear(hidden, hidden),\n",
        "                nn.ReLU(),\n",
        "                nn.Dropout(dropout),\n",
        "                nn.Linear(hidden, hidden)\n",
        "            ) for _ in range(n_blocks)\n",
        "        ])\n",
        "\n",
        "        # Output projection\n",
        "        self.output_proj = nn.Linear(hidden, n * n)\n",
        "\n",
        "        # Layer normalization for stability\n",
        "        self.layer_norms = nn.ModuleList([\n",
        "            nn.LayerNorm(hidden) for _ in range(n_blocks)\n",
        "        ])\n",
        "\n",
        "    def forward(self, W):\n",
        "        B = W.size(0)\n",
        "\n",
        "        # Initial projection\n",
        "        y = W.view(B, -1)\n",
        "        y = self.input_proj(y)\n",
        "        y = F.relu(y)\n",
        "\n",
        "        # Repeated blocks with residual connections\n",
        "        for i in range(self.n_blocks):\n",
        "            residual = y\n",
        "            y = self.blocks[i](y)\n",
        "            y = self.layer_norms[i](y + residual)\n",
        "            y = F.relu(y)\n",
        "\n",
        "        # Output projection\n",
        "        y = self.output_proj(y)\n",
        "\n",
        "        # Reshape and enforce symmetry\n",
        "        D_hat = y.view(B, self.n, self.n)\n",
        "        D_hat = 0.5 * (D_hat + D_hat.transpose(1, 2))\n",
        "\n",
        "        # Ensure diagonal is zero (no self-loops)\n",
        "        D_hat = D_hat - torch.diag_embed(torch.diagonal(D_hat, dim1=1, dim2=2))\n",
        "\n",
        "        # Ensure non-negative distances\n",
        "        D_hat = F.relu(D_hat)\n",
        "\n",
        "        return D_hat"
      ],
      "metadata": {
        "id": "OdTGgeB_Th99"
      },
      "execution_count": null,
      "outputs": []
    },
    {
      "cell_type": "markdown",
      "source": [
        "### Normalize"
      ],
      "metadata": {
        "id": "ZIt_OaMmsKU6"
      }
    },
    {
      "cell_type": "code",
      "source": [
        "# Better normalization that excludes the 1e9 placeholder values\n",
        "# Find actual max values (excluding the 1e9 placeholders)\n",
        "X_train_real = X_train.clone()\n",
        "X_train_real[X_train >= 1e8] = 0  # Temporarily set large values to 0\n",
        "max_input = X_train_real[X_train_real > 0].max().item()  # Max of actual edge weights\n",
        "\n",
        "# For targets, find the actual max distance\n",
        "max_target = y_train.max().item()\n",
        "\n",
        "print(f\"Actual max edge weight: {max_input}\")\n",
        "print(f\"Max shortest path distance: {max_target}\")\n",
        "\n",
        "# Normalize inputs: actual edges by max_input, keep 1e9 as a special value\n",
        "def normalize_input(X, max_val):\n",
        "    X_norm = X.clone()\n",
        "    mask = X < 1e8  # Actual edges\n",
        "    X_norm[mask] = X[mask] / max_val\n",
        "    X_norm[~mask] = 10.0  # Use 10.0 as a special \"no edge\" value\n",
        "    return X_norm\n",
        "\n",
        "X_train_n = normalize_input(X_train, max_input)\n",
        "X_test_n = normalize_input(X_test, max_input)\n",
        "y_train_n = y_train / max_target\n",
        "y_test_n = y_test / max_target\n",
        "\n",
        "# Verify normalization\n",
        "print(f\"X_train_n actual edges range: [{X_train_n[X_train_n < 10].min():.3f}, {X_train_n[X_train_n < 10].max():.3f}]\")\n",
        "print(f\"y_train_n range: [{y_train_n.min():.3f}, {y_train_n.max():.3f}]\")"
      ],
      "metadata": {
        "id": "uLg5_vmKsIgM",
        "colab": {
          "base_uri": "https://localhost:8080/"
        },
        "outputId": "4beb5c2c-e62a-4269-857d-a1507652b618"
      },
      "execution_count": null,
      "outputs": [
        {
          "output_type": "stream",
          "name": "stdout",
          "text": [
            "Actual max edge weight: 100.0\n",
            "Max shortest path distance: 102.0\n",
            "X_train_n actual edges range: [0.000, 1.000]\n",
            "y_train_n range: [0.000, 1.000]\n"
          ]
        }
      ]
    },
    {
      "cell_type": "markdown",
      "source": [
        "##🧩7: Training the model"
      ],
      "metadata": {
        "id": "Lnu31F60Y51e"
      }
    },
    {
      "cell_type": "code",
      "source": [
        "import torch.optim.lr_scheduler as lr_scheduler\n",
        "\n",
        "# Store losses for visualization\n",
        "train_losses = []\n",
        "val_losses = []\n",
        "\n",
        "# Initialize model with better architecture\n",
        "n = inputs.shape[-1]\n",
        "model = RepeatedBlockMLP(n=n, hidden=512, n_blocks=16, dropout=0.2).to(device)\n",
        "\n",
        "# Use a lower learning rate and MSE loss for better stability\n",
        "opt = torch.optim.Adam(model.parameters(), lr=1e-3, weight_decay=1e-5)\n",
        "scheduler = lr_scheduler.ReduceLROnPlateau(opt, mode='min', factor=0.5, patience=20, min_lr=1e-6)\n",
        "loss_fn = nn.MSELoss()  # MSE often works better for regression\n",
        "\n",
        "# Training loop with better monitoring\n",
        "best_val_loss = float('inf')\n",
        "patience_counter = 0\n",
        "\n",
        "for epoch in range(1, 301):\n",
        "    model.train()\n",
        "    opt.zero_grad()\n",
        "\n",
        "    # Forward pass\n",
        "    pred = model(X_train_n.to(device))\n",
        "    loss = loss_fn(pred, y_train_n.to(device))\n",
        "\n",
        "    # Add L2 regularization on output to prevent explosion\n",
        "    l2_reg = 0.001 * pred.pow(2).mean()\n",
        "    total_loss = loss + l2_reg\n",
        "\n",
        "    total_loss.backward()\n",
        "\n",
        "    # Gradient clipping for stability\n",
        "    torch.nn.utils.clip_grad_norm_(model.parameters(), max_norm=1.0)\n",
        "\n",
        "    opt.step()\n",
        "    train_losses.append(loss.item())\n",
        "\n",
        "    # Validation\n",
        "    model.eval()\n",
        "    with torch.no_grad():\n",
        "        val_pred = model(X_test_n.to(device))\n",
        "        val_loss = loss_fn(val_pred, y_test_n.to(device))\n",
        "\n",
        "        # Check for all-zero predictions\n",
        "        if epoch % 20 == 0:\n",
        "            pred_mean = val_pred.mean().item()\n",
        "            pred_std = val_pred.std().item()\n",
        "            print(f\"Epoch {epoch:03d} | train {loss.item():.4f} | val {val_loss.item():.4f} | \"\n",
        "                  f\"pred_mean {pred_mean:.4f} | pred_std {pred_std:.4f}\")\n",
        "\n",
        "    val_losses.append(val_loss.item())\n",
        "    scheduler.step(val_loss)\n",
        "\n",
        "    # Early stopping\n",
        "    if val_loss < best_val_loss:\n",
        "        best_val_loss = val_loss\n",
        "        patience_counter = 0\n",
        "        # Save best model\n",
        "        torch.save(model.state_dict(), 'best_model.pth')\n",
        "    else:\n",
        "        patience_counter += 1\n",
        "        if patience_counter >= 50:\n",
        "            print(f\"Early stopping at epoch {epoch}\")\n",
        "            break\n",
        "\n",
        "# Load best model\n",
        "model.load_state_dict(torch.load('best_model.pth'))"
      ],
      "metadata": {
        "id": "27Dwm7f7UvCZ",
        "colab": {
          "base_uri": "https://localhost:8080/"
        },
        "outputId": "c69c0ef1-89e7-403c-f967-9ed0625ed18d"
      },
      "execution_count": null,
      "outputs": [
        {
          "output_type": "stream",
          "name": "stdout",
          "text": [
            "Epoch 020 | train 0.0267 | val 0.0295 | pred_mean 0.2377 | pred_std 0.0977\n",
            "Epoch 040 | train 0.0208 | val 0.0298 | pred_mean 0.2464 | pred_std 0.1055\n",
            "Epoch 060 | train 0.0130 | val 0.0296 | pred_mean 0.2390 | pred_std 0.1017\n",
            "Early stopping at epoch 77\n"
          ]
        },
        {
          "output_type": "execute_result",
          "data": {
            "text/plain": [
              "<All keys matched successfully>"
            ]
          },
          "metadata": {},
          "execution_count": 9
        }
      ]
    },
    {
      "cell_type": "markdown",
      "source": [
        "##🧩8: Viusalize evaluation"
      ],
      "metadata": {
        "id": "bRfDCNTrb7iL"
      }
    },
    {
      "cell_type": "code",
      "source": [
        "# 🔍 Plot training and validation loss curves\n",
        "plt.figure(figsize=(10, 6))\n",
        "plt.plot(train_losses, label=\"Training Loss\", linewidth=2)\n",
        "plt.plot(val_losses, label=\"Validation Loss\", linewidth=2)\n",
        "plt.xlabel(\"Epoch\")\n",
        "plt.ylabel(\"Loss\")\n",
        "plt.title(\"Training vs Validation Loss\")\n",
        "plt.legend()\n",
        "plt.grid(True)\n",
        "plt.tight_layout()\n",
        "plt.show()"
      ],
      "metadata": {
        "id": "2vlo0xuXcB7s",
        "colab": {
          "base_uri": "https://localhost:8080/",
          "height": 607
        },
        "outputId": "6371b1d5-936d-4d02-e995-f486510387b8"
      },
      "execution_count": null,
      "outputs": [
        {
          "output_type": "display_data",
          "data": {
            "text/plain": [
              "<Figure size 1000x600 with 1 Axes>"
            ],
            "image/png": "[encoded data removed]"
          },
          "metadata": {}
        }
      ]
    },
    {
      "cell_type": "markdown",
      "source": [
        "## 🔄 Next Steps\n",
        "\n",
        "- **6:** Define repeated-block MLP model to map input n×n matrices to shortest path cost matrices.\n",
        "- **7:** Train the model using MSE loss and Adam optimizer.\n",
        "- **8:** Evaluate model on test data and compare predicted vs. ground truth distances.\n"
      ],
      "metadata": {
        "id": "ZU-OF11ItW9W"
      }
    },
    {
      "cell_type": "code",
      "source": [
        "# Clean logic for saving model predictions\n",
        "\n",
        "# 1. Get test indices to track which graphs we're predicting on\n",
        "\n",
        "# Recreate the same train/test split to get indices\n",
        "all_indices = np.arange(len(graph_dirs))\n",
        "_, test_indices, _, _ = train_test_split(\n",
        "    all_indices, all_indices, test_size=0.2, random_state=42\n",
        ")\n",
        "\n",
        "print(f\"Test set contains {len(test_indices)} graphs:\")\n",
        "print([graph_dirs[i].name for i in test_indices])\n",
        "\n",
        "# 2. Get normalization parameters (from training data)\n",
        "# These should match the values used during training\n",
        "max_input = 100.0   # From the normalization output earlier\n",
        "max_target = 103.0  # From the normalization output earlier\n",
        "\n",
        "# 3. Prepare test data and run inference\n",
        "model.eval()\n",
        "with torch.no_grad():\n",
        "    # X_test_n and y_test_n were already normalized in training\n",
        "    # Run inference on normalized test inputs\n",
        "    predictions_normalized = model(X_test_n.to(device))\n",
        "\n",
        "    # Convert to numpy and denormalize predictions\n",
        "    predictions_numpy = predictions_normalized.cpu().numpy()\n",
        "    predictions_denormalized = predictions_numpy * max_target\n",
        "\n",
        "# 4. Save predictions in the same format as original distance.txt files\n",
        "output_dir = Path(\"graphs/predicted_results\")\n",
        "output_dir.mkdir(parents=True, exist_ok=True)\n",
        "\n",
        "print(f\"\\nSaving predictions to {output_dir}/\")\n",
        "\n",
        "for i, graph_idx in enumerate(test_indices):\n",
        "    # Get the original graph name\n",
        "    original_graph_name = graph_dirs[graph_idx].name  # e.g., \"graph1\", \"graph42\", etc.\n",
        "\n",
        "    # Create output filename\n",
        "    output_filename = f\"{original_graph_name}_predicted_distance.txt\"\n",
        "    output_path = output_dir / output_filename\n",
        "\n",
        "    # Get the prediction matrix for this graph\n",
        "    pred_matrix = predictions_denormalized[i]\n",
        "\n",
        "    # Ensure non-negative values and zero diagonal (like shortest paths should be)\n",
        "    pred_matrix = np.maximum(pred_matrix, 0)  # Ensure non-negative\n",
        "    np.fill_diagonal(pred_matrix, 0)  # Ensure zero diagonal\n",
        "\n",
        "    # Save in same format as original distance.txt (integers)\n",
        "    np.savetxt(output_path, pred_matrix, fmt='%d')\n",
        "\n",
        "    print(f\"Saved: {output_filename}\")\n",
        "\n",
        "print(f\"\\n✅ Successfully saved {len(test_indices)} prediction files!\")\n",
        "\n",
        "# 5. Optional: Compare a sample prediction with ground truth\n",
        "sample_idx = 0\n",
        "sample_graph_name = graph_dirs[test_indices[sample_idx]].name\n",
        "\n",
        "print(f\"\\nSample comparison for {sample_graph_name}:\")\n",
        "print(\"Predicted vs Ground Truth (first 5x5 corner):\")\n",
        "print(\"Predicted:\")\n",
        "print(predictions_denormalized[sample_idx][:5, :5].astype(int))\n",
        "print(\"Ground Truth:\")\n",
        "print((y_test_n.cpu().numpy()[sample_idx] * max_target)[:5, :5].astype(int))\n",
        "\n",
        "# 6. Calculate some basic metrics\n",
        "mae_per_graph = np.mean(np.abs(predictions_denormalized - (y_test_n.cpu().numpy() * max_target)), axis=(1,2))\n",
        "rmse_per_graph = np.sqrt(np.mean((predictions_denormalized - (y_test_n.cpu().numpy() * max_target))**2, axis=(1,2)))\n",
        "\n",
        "print(f\"\\nPrediction Quality Metrics:\")\n",
        "print(f\"Average MAE across test graphs: {np.mean(mae_per_graph):.2f}\")\n",
        "print(f\"Average RMSE across test graphs: {np.mean(rmse_per_graph):.2f}\")\n",
        "print(f\"Best performing graph (lowest MAE): {graph_dirs[test_indices[np.argmin(mae_per_graph)]].name} (MAE: {np.min(mae_per_graph):.2f})\")\n",
        "print(f\"Worst performing graph (highest MAE): {graph_dirs[test_indices[np.argmax(mae_per_graph)]].name} (MAE: {np.max(mae_per_graph):.2f})\")"
      ],
      "metadata": {
        "colab": {
          "base_uri": "https://localhost:8080/"
        },
        "id": "_-ZAnaVtIYvW",
        "outputId": "3c8f8775-0dc7-49dc-bcaf-d53b40dc8038"
      },
      "execution_count": null,
      "outputs": [
        {
          "output_type": "stream",
          "name": "stdout",
          "text": [
            "Test set contains 20 graphs:\n",
            "['graph84', 'graph54', 'graph71', 'graph46', 'graph45', 'graph40', 'graph23', 'graph81', 'graph11', 'graph1', 'graph19', 'graph31', 'graph74', 'graph34', 'graph91', 'graph5', 'graph77', 'graph78', 'graph13', 'graph32']\n",
            "\n",
            "Saving predictions to graphs/predicted_results/\n",
            "Saved: graph84_predicted_distance.txt\n",
            "Saved: graph54_predicted_distance.txt\n",
            "Saved: graph71_predicted_distance.txt\n",
            "Saved: graph46_predicted_distance.txt\n",
            "Saved: graph45_predicted_distance.txt\n",
            "Saved: graph40_predicted_distance.txt\n",
            "Saved: graph23_predicted_distance.txt\n",
            "Saved: graph81_predicted_distance.txt\n",
            "Saved: graph11_predicted_distance.txt\n",
            "Saved: graph1_predicted_distance.txt\n",
            "Saved: graph19_predicted_distance.txt\n",
            "Saved: graph31_predicted_distance.txt\n",
            "Saved: graph74_predicted_distance.txt\n",
            "Saved: graph34_predicted_distance.txt\n",
            "Saved: graph91_predicted_distance.txt\n",
            "Saved: graph5_predicted_distance.txt\n",
            "Saved: graph77_predicted_distance.txt\n",
            "Saved: graph78_predicted_distance.txt\n",
            "Saved: graph13_predicted_distance.txt\n",
            "Saved: graph32_predicted_distance.txt\n",
            "\n",
            "✅ Successfully saved 20 prediction files!\n",
            "\n",
            "Sample comparison for graph84:\n",
            "Predicted vs Ground Truth (first 5x5 corner):\n",
            "Predicted:\n",
            "[[ 0 24 26 29 23]\n",
            " [24  0 32 29 27]\n",
            " [26 32  0  0 26]\n",
            " [29 29  0  0 32]\n",
            " [23 27 26 32  0]]\n",
            "Ground Truth:\n",
            "[[ 0 26 28  4 38]\n",
            " [26  0 50 30 60]\n",
            " [28 50  0 32 46]\n",
            " [ 4 30 32  0 42]\n",
            " [38 60 46 42  0]]\n",
            "\n",
            "Prediction Quality Metrics:\n",
            "Average MAE across test graphs: 13.24\n",
            "Average RMSE across test graphs: 17.09\n",
            "Best performing graph (lowest MAE): graph5 (MAE: 10.19)\n",
            "Worst performing graph (highest MAE): graph32 (MAE: 20.79)\n"
          ]
        }
      ]
    }
  ]
}